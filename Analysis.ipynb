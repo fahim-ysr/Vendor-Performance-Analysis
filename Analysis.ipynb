{
 "cells": [
  {
   "cell_type": "code",
   "execution_count": 1,
   "id": "5b316239-1610-4945-83e6-de20f68428c8",
   "metadata": {},
   "outputs": [],
   "source": [
    "# Importing required modules\n",
    "\n",
    "import pandas as pd\n",
    "import os\n",
    "from sqlalchemy import create_engine"
   ]
  },
  {
   "cell_type": "code",
   "execution_count": 2,
   "id": "73808b42-0367-42bd-9507-ab943811b1d8",
   "metadata": {},
   "outputs": [],
   "source": [
    "# Setting up database\n",
    "\n",
    "engine = create_engine('sqlite:///inventory.db')"
   ]
  },
  {
   "cell_type": "code",
   "execution_count": 3,
   "id": "6e05fd4b-469b-4528-ac1c-c86aec856ea5",
   "metadata": {},
   "outputs": [],
   "source": [
    "# Loading datasets\n",
    "\n",
    "begin_inventory_df = pd.read_csv(\"begin_inventory.csv\")\n",
    "end_inventory_df = pd.read_csv(\"end_inventory.csv\")\n",
    "purchases_df = pd.read_csv(\"purchases.csv\")\n",
    "purchase_prices_df = pd.read_csv(\"purchase_prices.csv\")\n",
    "sales_df = pd.read_csv(\"sales.csv\")\n",
    "vendor_invoice_df = pd.read_csv(\"vendor_invoice.csv\")"
   ]
  },
  {
   "cell_type": "code",
   "execution_count": 8,
   "id": "42584424-9f04-49b9-8bad-f06acda6f6bf",
   "metadata": {},
   "outputs": [
    {
     "name": "stdout",
     "output_type": "stream",
     "text": [
      "begin_inventory_df dimensions:  (206529, 9)\n",
      "end_inventory_df dimensions:  (224489, 9)\n",
      "purchases_df dimensions:  (2372474, 16)\n",
      "purchase_prices_df dimensions:  (12261, 9)\n",
      "sales_df dimensions:  (12825363, 14)\n",
      "vendor_invoice_df dimensions:  (5543, 10)\n"
     ]
    }
   ],
   "source": [
    "# Analyzing dataset dimensions\n",
    "\n",
    "print(\"begin_inventory_df dimensions: \", begin_inventory_df.shape)\n",
    "print(\"end_inventory_df dimensions: \", end_inventory_df.shape)\n",
    "print(\"purchases_df dimensions: \", purchases_df.shape)\n",
    "print(\"purchase_prices_df dimensions: \", purchase_prices_df.shape)\n",
    "print(\"sales_df dimensions: \", sales_df.shape)\n",
    "print(\"vendor_invoice_df dimensions: \", vendor_invoice_df.shape)"
   ]
  },
  {
   "cell_type": "code",
   "execution_count": null,
   "id": "67bea0c5-128f-42dc-8788-b4b1640ad8db",
   "metadata": {},
   "outputs": [],
   "source": []
  }
 ],
 "metadata": {
  "kernelspec": {
   "display_name": "env-kernel",
   "language": "python",
   "name": "env-kernel"
  },
  "language_info": {
   "codemirror_mode": {
    "name": "ipython",
    "version": 3
   },
   "file_extension": ".py",
   "mimetype": "text/x-python",
   "name": "python",
   "nbconvert_exporter": "python",
   "pygments_lexer": "ipython3",
   "version": "3.10.11"
  }
 },
 "nbformat": 4,
 "nbformat_minor": 5
}
