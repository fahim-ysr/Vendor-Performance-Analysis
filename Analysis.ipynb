{
 "cells": [
  {
   "cell_type": "code",
   "execution_count": 7,
   "id": "5b316239-1610-4945-83e6-de20f68428c8",
   "metadata": {},
   "outputs": [],
   "source": [
    "# Importing required modules\n",
    "\n",
    "import pandas as pd\n",
    "import os\n",
    "from sqlalchemy import create_engine\n",
    "import logging"
   ]
  },
  {
   "cell_type": "code",
   "execution_count": 2,
   "id": "73808b42-0367-42bd-9507-ab943811b1d8",
   "metadata": {},
   "outputs": [],
   "source": [
    "# Setting up database\n",
    "\n",
    "engine = create_engine('sqlite:///inventory.db')"
   ]
  },
  {
   "cell_type": "code",
   "execution_count": 3,
   "id": "6e05fd4b-469b-4528-ac1c-c86aec856ea5",
   "metadata": {},
   "outputs": [],
   "source": [
    "# Loading datasets as DataFrames\n",
    "\n",
    "begin_inventory_df = pd.read_csv(\"begin_inventory.csv\")\n",
    "end_inventory_df = pd.read_csv(\"end_inventory.csv\")\n",
    "purchases_df = pd.read_csv(\"purchases.csv\")\n",
    "purchase_prices_df = pd.read_csv(\"purchase_prices.csv\")\n",
    "sales_df = pd.read_csv(\"sales.csv\")\n",
    "vendor_invoice_df = pd.read_csv(\"vendor_invoice.csv\")"
   ]
  },
  {
   "cell_type": "code",
   "execution_count": 4,
   "id": "42584424-9f04-49b9-8bad-f06acda6f6bf",
   "metadata": {},
   "outputs": [
    {
     "name": "stdout",
     "output_type": "stream",
     "text": [
      "begin_inventory_df dimensions:  (206529, 9)\n",
      "end_inventory_df dimensions:  (224489, 9)\n",
      "purchases_df dimensions:  (2372474, 16)\n",
      "purchase_prices_df dimensions:  (12261, 9)\n",
      "sales_df dimensions:  (12825363, 14)\n",
      "vendor_invoice_df dimensions:  (5543, 10)\n"
     ]
    }
   ],
   "source": [
    "# Analyzing dataset dimensions\n",
    "\n",
    "print(\"begin_inventory_df dimensions: \", begin_inventory_df.shape)\n",
    "print(\"end_inventory_df dimensions: \", end_inventory_df.shape)\n",
    "print(\"purchases_df dimensions: \", purchases_df.shape)\n",
    "print(\"purchase_prices_df dimensions: \", purchase_prices_df.shape)\n",
    "print(\"sales_df dimensions: \", sales_df.shape)\n",
    "print(\"vendor_invoice_df dimensions: \", vendor_invoice_df.shape)"
   ]
  },
  {
   "cell_type": "code",
   "execution_count": 12,
   "id": "67bea0c5-128f-42dc-8788-b4b1640ad8db",
   "metadata": {},
   "outputs": [],
   "source": [
    "# Function for ingestion\n",
    "\n",
    "def ingest_db(df, table_name, engine):\n",
    "    \"\"\"Ingests dataframe into database\"\"\"\n",
    "    df.to_sql(table_name, con= engine, if_exists= 'replace', index= False)"
   ]
  },
  {
   "cell_type": "code",
   "execution_count": 11,
   "id": "cdabc9fa-84ad-435b-a932-ad1406e05ac9",
   "metadata": {},
   "outputs": [],
   "source": [
    "# Setting up log for monitoring errors\n",
    "\n",
    "logging.basicConfig(\n",
    "    filename= \"logs/database.logs\",\n",
    "    level= logging.DEBUG,\n",
    "    format= \"%(asctime)s - %(levelname)s - %(message)s\",\n",
    "    filemode= \"a\"\n",
    ")"
   ]
  },
  {
   "cell_type": "code",
   "execution_count": 13,
   "id": "3ee4ee5e-95a3-4044-b47a-7faf5fcc61f9",
   "metadata": {},
   "outputs": [],
   "source": [
    "# Automating data ingestion for keeping database up to date with the datasets\n",
    "\n",
    "def load_data_to_db():\n",
    "    \"\"\"Loads CSVs as dataframe and ingests into database\"\"\"\n",
    "    # Saves the start time for ingestion\n",
    "    start_time = time.time()\n",
    "    \n",
    "    for file in os.listdir():\n",
    "        if \".csv\" in file:\n",
    "            df = pd.read_csv(file)\n",
    "            # Logs progress during ingestion\n",
    "            logging.info(f\"Ingesting {file} in inventory.db\")\n",
    "            ingest_db(df, file[:-4], engine)\n",
    "            \n",
    "    # Saves the end time for ingestion\n",
    "    end_time= time.time()\n",
    "    \n",
    "    # Calculates the time taken in minutes for ingestion\n",
    "    total_time = (end_time - start_time) / 60\n",
    "    \n",
    "    logging.info(\"Ingestion Completed...\")\n",
    "    logging.info(f\"Total Time Taken: {total_time} minutes\")"
   ]
  },
  {
   "cell_type": "code",
   "execution_count": null,
   "id": "dc4f09cf-4861-46f8-b988-abcc8e0fd950",
   "metadata": {},
   "outputs": [],
   "source": []
  }
 ],
 "metadata": {
  "kernelspec": {
   "display_name": "env-kernel",
   "language": "python",
   "name": "env-kernel"
  },
  "language_info": {
   "codemirror_mode": {
    "name": "ipython",
    "version": 3
   },
   "file_extension": ".py",
   "mimetype": "text/x-python",
   "name": "python",
   "nbconvert_exporter": "python",
   "pygments_lexer": "ipython3",
   "version": "3.10.11"
  }
 },
 "nbformat": 4,
 "nbformat_minor": 5
}
